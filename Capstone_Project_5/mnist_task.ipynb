{
 "cells": [
  {
   "cell_type": "code",
   "execution_count": 100,
   "id": "1fe035a4",
   "metadata": {},
   "outputs": [],
   "source": [
    "# Importing the data from the library and split it into training and testing dataset\n",
    "# The data comes as tuples to be unpacked for training and testing.\n",
    "(x_train, y_train), (x_test, y_test) = mnist.load_data()"
   ]
  },
  {
   "cell_type": "code",
   "execution_count": 101,
   "id": "106c1a76",
   "metadata": {},
   "outputs": [],
   "source": [
    "# Split the training set into train and development sets\n",
    "\n",
    "x_dev,y_dev = x_train[40000:],y_train[40000:]\n",
    "x_train,y_train = x_train[:40000],y_train[:40000]"
   ]
  },
  {
   "cell_type": "code",
   "execution_count": 104,
   "id": "2578d192",
   "metadata": {},
   "outputs": [
    {
     "name": "stdout",
     "output_type": "stream",
     "text": [
      "X training set - 40000 values\n",
      "Y training set - 40000 values\n",
      "X development set - 20000 values\n",
      "Y development set - 20000 values\n",
      "X test set - 10000 values\n",
      "Y test set - 10000 values\n"
     ]
    }
   ],
   "source": [
    "# See how many values each set has.\n",
    "print(f'X training set - {len(x_train)} values')\n",
    "print(f'Y training set - {len(y_train)} values')\n",
    "print(f'X development set - {len(x_dev)} values')\n",
    "print(f'Y development set - {len(y_dev)} values')\n",
    "print(f'X test set - {len(x_test)} values')\n",
    "print(f'Y test set - {len(y_test)} values')"
   ]
  },
  {
   "cell_type": "code",
   "execution_count": 105,
   "id": "11c8bbac",
   "metadata": {},
   "outputs": [
    {
     "data": {
      "image/png": "[encoded data removed]",
      "text/plain": [
       "<Figure size 1080x1080 with 5 Axes>"
      ]
     },
     "metadata": {
      "needs_background": "light"
     },
     "output_type": "display_data"
    }
   ],
   "source": [
    "# visaulise the first 5 values of the x_training set and their target values\n",
    "fig,ax = plt.subplots(1,5,figsize=(15, 15))\n",
    "for i in range(5): \n",
    "    ax[i].imshow(x_train[i], cmap=plt.cm.gray)\n",
    "    ax[i].title.set_text(f'Target - {y_train[i]}')"
   ]
  },
  {
   "cell_type": "markdown",
   "id": "6754cc4b",
   "metadata": {},
   "source": [
    "Each value of the X sets is a 28 x 28 matrix that contains the pixel greyscale value from 0 to 255\n",
    "The Y sets are an array that contains the numerical value of the  number the image."
   ]
  },
  {
   "cell_type": "code",
   "execution_count": 137,
   "id": "24111570",
   "metadata": {},
   "outputs": [],
   "source": [
    "# Reshape each set in order to be prepared for machine learning\n",
    "x_train = x_train.reshape(40000,-1)\n",
    "y_train = y_train.reshape(40000,-1)\n",
    "x_dev = x_dev.reshape(20000,-1)\n",
    "y_dev = y_dev.reshape(20000,-1)\n",
    "x_test = x_test.reshape(10000,-1)\n",
    "y_test = y_test.reshape(10000,-1)"
   ]
  },
  {
   "cell_type": "code",
   "execution_count": 167,
   "id": "afd4b371",
   "metadata": {},
   "outputs": [
    {
     "name": "stdout",
     "output_type": "stream",
     "text": [
      "Accuracy with n_estimator=50 : 0.96445\n",
      "Accuracy with n_estimator=60 : 0.9653\n",
      "Accuracy with n_estimator=70 : 0.966\n",
      "Accuracy with n_estimator=80 : 0.9657\n",
      "Accuracy with n_estimator=90 : 0.96595\n",
      "Accuracy with n_estimator=100 : 0.96605\n",
      "Accuracy with n_estimator=110 : 0.9661\n",
      "Accuracy with n_estimator=120 : 0.96615\n"
     ]
    }
   ],
   "source": [
    "# Using a for loop we  test 8 different values for the n_estimator parameter to see which one performs the best\n",
    "# Create a list to store all the scores\n",
    "scores = []\n",
    "\n",
    "for i in range(50,121,10):\n",
    "    # Define the clasiffier using Random Forest\n",
    "    forest = RandomForestClassifier(n_estimators=i, random_state=7)\n",
    "    \n",
    "    # Fit the model to the training data\n",
    "    forest.fit(x_train,y_train.ravel())\n",
    "    \n",
    "    # Get the accuracy score from the fitted model\n",
    "    score = forest.score(x_dev, y_dev)\n",
    "    print(f\"Accuracy with n_estimator={i} : {score}\")\n",
    "    scores.append(score)"
   ]
  },
  {
   "cell_type": "code",
   "execution_count": 174,
   "id": "83d5a1c3",
   "metadata": {},
   "outputs": [
    {
     "data": {
      "text/plain": [
       "Text(0.5, 0, 'Accuracy Score')"
      ]
     },
     "execution_count": 174,
     "metadata": {},
     "output_type": "execute_result"
    },
    {
     "data": {
      "image/png": "[encoded data removed]",
      "text/plain": [
       "<Figure size 432x288 with 1 Axes>"
      ]
     },
     "metadata": {
      "needs_background": "light"
     },
     "output_type": "display_data"
    }
   ],
   "source": [
    "plt.plot(np.arange(50,121,10),scores)\n",
    "plt.xlabel(\"N_Estimators\")\n",
    "plt.xlabel(\"Accuracy Score\")"
   ]
  },
  {
   "cell_type": "markdown",
   "id": "9ce84087",
   "metadata": {},
   "source": [
    "We see that  by tuning the n_estimator parameter to the value of 120 we obtained a better score then the other values."
   ]
  },
  {
   "cell_type": "code",
   "execution_count": 180,
   "id": "90ceedb1",
   "metadata": {},
   "outputs": [
    {
     "name": "stdout",
     "output_type": "stream",
     "text": [
      "MIN - 25\n",
      "MAX - 43\n"
     ]
    }
   ],
   "source": [
    "# Get the max_depth of each tree from the random forest\n",
    "max_depth_count = [estimator.tree_.max_depth for estimator in forest.estimators_]\n",
    "\n",
    "# See the min and max values of the max depths\n",
    "minDepth = min(max_depth_count)\n",
    "maxDepth = max(max_depth_count)\n",
    "print(f'MIN - {minDepth}\\nMAX - {maxDepth}')"
   ]
  },
  {
   "cell_type": "code",
   "execution_count": 182,
   "id": "11b8ee59",
   "metadata": {},
   "outputs": [
    {
     "name": "stdout",
     "output_type": "stream",
     "text": [
      "Accuracy at max_depth=25 : 0.9661\n",
      "Accuracy at max_depth=27 : 0.9672\n",
      "Accuracy at max_depth=29 : 0.9665\n",
      "Accuracy at max_depth=31 : 0.96695\n",
      "Accuracy at max_depth=33 : 0.96695\n",
      "Accuracy at max_depth=35 : 0.96655\n",
      "Accuracy at max_depth=37 : 0.96625\n",
      "Accuracy at max_depth=39 : 0.9662\n",
      "Accuracy at max_depth=41 : 0.9662\n",
      "Accuracy at max_depth=43 : 0.96615\n"
     ]
    }
   ],
   "source": [
    "# Using the n_estimator as 120 , we can retrain the model , and we can use the same method  by testing on different max_depths.\n",
    "scores2 = []\n",
    "\n",
    "for i in range(minDepth,maxDepth+1,2):\n",
    "    # Define the clasiffier using Random Forest\n",
    "    forest = RandomForestClassifier(n_estimators=120,max_depth=i, random_state=7)\n",
    "    \n",
    "    # Fit the model to the training data\n",
    "    forest.fit(x_train,y_train.ravel())\n",
    "    \n",
    "    # Get the accuracy score from the fitted model\n",
    "    score = forest.score(x_dev, y_dev)\n",
    "    print(f\"Accuracy at max_depth={i} : {score}\")\n",
    "    scores2.append(score)"
   ]
  },
  {
   "cell_type": "code",
   "execution_count": 184,
   "id": "f1f976fe",
   "metadata": {},
   "outputs": [
    {
     "data": {
      "image/png": "[encoded data removed]",
      "text/plain": [
       "<Figure size 432x288 with 1 Axes>"
      ]
     },
     "metadata": {
      "needs_background": "light"
     },
     "output_type": "display_data"
    }
   ],
   "source": [
    "plt.plot(np.arange(minDepth,maxDepth+1,2),scores2)\n",
    "plt.xlabel(\"Max_Depth\")\n",
    "plt.xlabel(\"Accuracy Score\")\n",
    "plt.grid()"
   ]
  },
  {
   "cell_type": "markdown",
   "id": "d1cea29d",
   "metadata": {},
   "source": [
    "By tuning the max_depth parameter aswell the model obteined at depth 27 a better accuracy then before ok 96.7%"
   ]
  },
  {
   "cell_type": "code",
   "execution_count": 185,
   "id": "34a22686",
   "metadata": {},
   "outputs": [],
   "source": [
    "# Create a Random Forest classifier using the best values discovered to obtain the final model\n",
    "forest = RandomForestClassifier(n_estimators=100,max_depth=27, random_state=7)"
   ]
  },
  {
   "cell_type": "code",
   "execution_count": 186,
   "id": "c1ca8ec9",
   "metadata": {},
   "outputs": [
    {
     "data": {
      "text/html": [
       "<style>#sk-container-id-4 {color: black;background-color: white;}#sk-container-id-4 pre{padding: 0;}#sk-container-id-4 div.sk-toggleable {background-color: white;}#sk-container-id-4 label.sk-toggleable__label {cursor: pointer;display: block;width: 100%;margin-bottom: 0;padding: 0.3em;box-sizing: border-box;text-align: center;}#sk-container-id-4 label.sk-toggleable__label-arrow:before {content: \"▸\";float: left;margin-right: 0.25em;color: #696969;}#sk-container-id-4 label.sk-toggleable__label-arrow:hover:before {color: black;}#sk-container-id-4 div.sk-estimator:hover label.sk-toggleable__label-arrow:before {color: black;}#sk-container-id-4 div.sk-toggleable__content {max-height: 0;max-width: 0;overflow: hidden;text-align: left;background-color: #f0f8ff;}#sk-container-id-4 div.sk-toggleable__content pre {margin: 0.2em;color: black;border-radius: 0.25em;background-color: #f0f8ff;}#sk-container-id-4 input.sk-toggleable__control:checked~div.sk-toggleable__content {max-height: 200px;max-width: 100%;overflow: auto;}#sk-container-id-4 input.sk-toggleable__control:checked~label.sk-toggleable__label-arrow:before {content: \"▾\";}#sk-container-id-4 div.sk-estimator input.sk-toggleable__control:checked~label.sk-toggleable__label {background-color: #d4ebff;}#sk-container-id-4 div.sk-label input.sk-toggleable__control:checked~label.sk-toggleable__label {background-color: #d4ebff;}#sk-container-id-4 input.sk-hidden--visually {border: 0;clip: rect(1px 1px 1px 1px);clip: rect(1px, 1px, 1px, 1px);height: 1px;margin: -1px;overflow: hidden;padding: 0;position: absolute;width: 1px;}#sk-container-id-4 div.sk-estimator {font-family: monospace;background-color: #f0f8ff;border: 1px dotted black;border-radius: 0.25em;box-sizing: border-box;margin-bottom: 0.5em;}#sk-container-id-4 div.sk-estimator:hover {background-color: #d4ebff;}#sk-container-id-4 div.sk-parallel-item::after {content: \"\";width: 100%;border-bottom: 1px solid gray;flex-grow: 1;}#sk-container-id-4 div.sk-label:hover label.sk-toggleable__label {background-color: #d4ebff;}#sk-container-id-4 div.sk-serial::before {content: \"\";position: absolute;border-left: 1px solid gray;box-sizing: border-box;top: 0;bottom: 0;left: 50%;z-index: 0;}#sk-container-id-4 div.sk-serial {display: flex;flex-direction: column;align-items: center;background-color: white;padding-right: 0.2em;padding-left: 0.2em;position: relative;}#sk-container-id-4 div.sk-item {position: relative;z-index: 1;}#sk-container-id-4 div.sk-parallel {display: flex;align-items: stretch;justify-content: center;background-color: white;position: relative;}#sk-container-id-4 div.sk-item::before, #sk-container-id-4 div.sk-parallel-item::before {content: \"\";position: absolute;border-left: 1px solid gray;box-sizing: border-box;top: 0;bottom: 0;left: 50%;z-index: -1;}#sk-container-id-4 div.sk-parallel-item {display: flex;flex-direction: column;z-index: 1;position: relative;background-color: white;}#sk-container-id-4 div.sk-parallel-item:first-child::after {align-self: flex-end;width: 50%;}#sk-container-id-4 div.sk-parallel-item:last-child::after {align-self: flex-start;width: 50%;}#sk-container-id-4 div.sk-parallel-item:only-child::after {width: 0;}#sk-container-id-4 div.sk-dashed-wrapped {border: 1px dashed gray;margin: 0 0.4em 0.5em 0.4em;box-sizing: border-box;padding-bottom: 0.4em;background-color: white;}#sk-container-id-4 div.sk-label label {font-family: monospace;font-weight: bold;display: inline-block;line-height: 1.2em;}#sk-container-id-4 div.sk-label-container {text-align: center;}#sk-container-id-4 div.sk-container {/* jupyter's `normalize.less` sets `[hidden] { display: none; }` but bootstrap.min.css set `[hidden] { display: none !important; }` so we also need the `!important` here to be able to override the default hidden behavior on the sphinx rendered scikit-learn.org. See: https://github.com/scikit-learn/scikit-learn/issues/21755 */display: inline-block !important;position: relative;}#sk-container-id-4 div.sk-text-repr-fallback {display: none;}</style><div id=\"sk-container-id-4\" class=\"sk-top-container\"><div class=\"sk-text-repr-fallback\"><pre>RandomForestClassifier(max_depth=27, random_state=7)</pre><b>In a Jupyter environment, please rerun this cell to show the HTML representation or trust the notebook. <br />On GitHub, the HTML representation is unable to render, please try loading this page with nbviewer.org.</b></div><div class=\"sk-container\" hidden><div class=\"sk-item\"><div class=\"sk-estimator sk-toggleable\"><input class=\"sk-toggleable__control sk-hidden--visually\" id=\"sk-estimator-id-4\" type=\"checkbox\" checked><label for=\"sk-estimator-id-4\" class=\"sk-toggleable__label sk-toggleable__label-arrow\">RandomForestClassifier</label><div class=\"sk-toggleable__content\"><pre>RandomForestClassifier(max_depth=27, random_state=7)</pre></div></div></div></div></div>"
      ],
      "text/plain": [
       "RandomForestClassifier(max_depth=27, random_state=7)"
      ]
     },
     "execution_count": 186,
     "metadata": {},
     "output_type": "execute_result"
    }
   ],
   "source": [
    "# fit the classfier to the training data\n",
    "forest.fit(x_train,y_train.ravel())"
   ]
  },
  {
   "cell_type": "code",
   "execution_count": 192,
   "id": "d65cbc66",
   "metadata": {},
   "outputs": [],
   "source": [
    "# Use the model to predict the test set\n",
    "forest_predict = forest.predict(x_test)"
   ]
  },
  {
   "cell_type": "code",
   "execution_count": 199,
   "id": "3794b630",
   "metadata": {},
   "outputs": [
    {
     "data": {
      "text/plain": [
       "<AxesSubplot:>"
      ]
     },
     "execution_count": 199,
     "metadata": {},
     "output_type": "execute_result"
    },
    {
     "data": {
      "image/png": "[encoded data removed]",
      "text/plain": [
       "<Figure size 432x288 with 2 Axes>"
      ]
     },
     "metadata": {
      "needs_background": "light"
     },
     "output_type": "display_data"
    }
   ],
   "source": [
    "# Create the confusion matrix for the model\n",
    "conf_mat = confusion_matrix(y_test, forest_predict)\n",
    "cm_df = pd.DataFrame(conf_mat)\n",
    "\n",
    "sns.heatmap(cm_df,annot=True,cmap=\"Blues\")"
   ]
  },
  {
   "cell_type": "code",
   "execution_count": 202,
   "id": "24c92e9a",
   "metadata": {},
   "outputs": [
    {
     "name": "stdout",
     "output_type": "stream",
     "text": [
      "Accuracy of final model: 96.5%\n"
     ]
    }
   ],
   "source": [
    "# Show the  accuracy of the model\n",
    "print(f'Accuracy of final model: {round(accuracy_score(y_test, forest_predict)*100,1)}%')"
   ]
  },
  {
   "cell_type": "code",
   "execution_count": 212,
   "id": "a8241b21",
   "metadata": {},
   "outputs": [
    {
     "name": "stdout",
     "output_type": "stream",
     "text": [
      "Average F1_score : 0.9653\n",
      "Hardest class: 9\n"
     ]
    }
   ],
   "source": [
    "# Calcualte the average f1 score\n",
    "av_f1 = f1_score(y_test, forest_predict, average='micro')\n",
    "print(f'Average F1_score : {av_f1}')\n",
    "\n",
    "classes = [0,1,2,3,4,5,6,7,8,9]\n",
    "\n",
    "# f1 score per class\n",
    "f = f1_score(y_test, forest_predict, average=None)\n",
    "lowest_score = min(f)\n",
    "\n",
    "# Get the hardest to predict class\n",
    "hardest_class = classes[list(f).index(lowest_score)]\n",
    "print('Hardest class:', hardest_class)"
   ]
  },
  {
   "cell_type": "code",
   "execution_count": 218,
   "id": "6c26f8fd",
   "metadata": {},
   "outputs": [
    {
     "name": "stdout",
     "output_type": "stream",
     "text": [
      "              precision    recall  f1-score   support\n",
      "\n",
      "           0       0.97      0.99      0.98       980\n",
      "           1       0.99      0.99      0.99      1135\n",
      "           2       0.95      0.97      0.96      1032\n",
      "           3       0.96      0.96      0.96      1010\n",
      "           4       0.97      0.97      0.97       982\n",
      "           5       0.97      0.96      0.96       892\n",
      "           6       0.97      0.97      0.97       958\n",
      "           7       0.97      0.95      0.96      1028\n",
      "           8       0.96      0.95      0.95       974\n",
      "           9       0.95      0.95      0.95      1009\n",
      "\n",
      "    accuracy                           0.97     10000\n",
      "   macro avg       0.97      0.97      0.97     10000\n",
      "weighted avg       0.97      0.97      0.97     10000\n",
      "\n"
     ]
    }
   ],
   "source": [
    "# Show the  clasification report that contains teh precision , recal, f1 score and support for each class\n",
    "\n",
    "print(metrics.classification_report(y_test,forest_predict))"
   ]
  },
  {
   "cell_type": "code",
   "execution_count": null,
   "id": "cd435bd4",
   "metadata": {},
   "outputs": [],
   "source": [
    "# precision, recal, and f1"
   ]
  }
 ],
 "metadata": {
  "kernelspec": {
   "display_name": "Python 3",
   "language": "python",
   "name": "python3"
  },
  "language_info": {
   "codemirror_mode": {
    "name": "ipython",
    "version": 3
   },
   "file_extension": ".py",
   "mimetype": "text/x-python",
   "name": "python",
   "nbconvert_exporter": "python",
   "pygments_lexer": "ipython3",
   "version": "3.8.8"
  }
 },
 "nbformat": 4,
 "nbformat_minor": 5
}
